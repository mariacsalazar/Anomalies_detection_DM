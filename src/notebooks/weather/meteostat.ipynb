{
 "cells": [
  {
   "cell_type": "markdown",
   "id": "061e8cdf",
   "metadata": {},
   "source": [
    "# Add Libraries and select the number of clusters"
   ]
  },
  {
   "cell_type": "code",
   "execution_count": 1,
   "id": "4469cc12-f98e-4fb6-8987-d19082c65c4c",
   "metadata": {
    "tags": []
   },
   "outputs": [],
   "source": [
    "import pandas as pd\n",
    "from datetime import datetime\n",
    "import numpy as np\n",
    "from meteostat import Hourly, Point\n",
    "import seaborn as sns\n",
    "from sklearn.cluster import KMeans\n",
    "import matplotlib.pyplot as plt\n",
    "import time\n",
    "import swifter\n",
    "number_of_clusters = 25\n",
    "sns.set_theme()"
   ]
  },
  {
   "cell_type": "markdown",
   "id": "ceac21fe",
   "metadata": {},
   "source": [
    "# Read The Data"
   ]
  },
  {
   "cell_type": "code",
   "execution_count": 2,
   "id": "63130d7b-8bbf-4a05-98fd-782f054c2c4a",
   "metadata": {
    "tags": []
   },
   "outputs": [
    {
     "data": {
      "text/html": [
       "<div>\n",
       "<style scoped>\n",
       "    .dataframe tbody tr th:only-of-type {\n",
       "        vertical-align: middle;\n",
       "    }\n",
       "\n",
       "    .dataframe tbody tr th {\n",
       "        vertical-align: top;\n",
       "    }\n",
       "\n",
       "    .dataframe thead th {\n",
       "        text-align: right;\n",
       "    }\n",
       "</style>\n",
       "<table border=\"1\" class=\"dataframe\">\n",
       "  <thead>\n",
       "    <tr style=\"text-align: right;\">\n",
       "      <th></th>\n",
       "      <th>mapped_veh_id</th>\n",
       "      <th>timestamps_UTC</th>\n",
       "      <th>lat</th>\n",
       "      <th>lon</th>\n",
       "      <th>RS_E_InAirTemp_PC1</th>\n",
       "      <th>RS_E_InAirTemp_PC2</th>\n",
       "      <th>RS_E_OilPress_PC1</th>\n",
       "      <th>RS_E_OilPress_PC2</th>\n",
       "      <th>RS_E_RPM_PC1</th>\n",
       "      <th>RS_E_RPM_PC2</th>\n",
       "      <th>RS_E_WatTemp_PC1</th>\n",
       "      <th>RS_E_WatTemp_PC2</th>\n",
       "      <th>RS_T_OilTemp_PC1</th>\n",
       "      <th>RS_T_OilTemp_PC2</th>\n",
       "    </tr>\n",
       "  </thead>\n",
       "  <tbody>\n",
       "    <tr>\n",
       "      <th>0</th>\n",
       "      <td>181.0</td>\n",
       "      <td>2023-08-01 03:44:12</td>\n",
       "      <td>50.769818</td>\n",
       "      <td>3.872114</td>\n",
       "      <td>27.0</td>\n",
       "      <td>23.0</td>\n",
       "      <td>255.0</td>\n",
       "      <td>238.0</td>\n",
       "      <td>794.0</td>\n",
       "      <td>801.0</td>\n",
       "      <td>83.0</td>\n",
       "      <td>81.0</td>\n",
       "      <td>76.0</td>\n",
       "      <td>77.0</td>\n",
       "    </tr>\n",
       "    <tr>\n",
       "      <th>1</th>\n",
       "      <td>143.0</td>\n",
       "      <td>2023-08-01 06:36:29</td>\n",
       "      <td>51.039993</td>\n",
       "      <td>3.693429</td>\n",
       "      <td>33.0</td>\n",
       "      <td>32.0</td>\n",
       "      <td>272.0</td>\n",
       "      <td>324.0</td>\n",
       "      <td>802.0</td>\n",
       "      <td>804.0</td>\n",
       "      <td>78.0</td>\n",
       "      <td>78.0</td>\n",
       "      <td>73.0</td>\n",
       "      <td>74.0</td>\n",
       "    </tr>\n",
       "    <tr>\n",
       "      <th>2</th>\n",
       "      <td>183.0</td>\n",
       "      <td>2023-08-24 06:53:54</td>\n",
       "      <td>50.742203</td>\n",
       "      <td>3.602035</td>\n",
       "      <td>31.0</td>\n",
       "      <td>33.0</td>\n",
       "      <td>234.0</td>\n",
       "      <td>182.0</td>\n",
       "      <td>799.0</td>\n",
       "      <td>802.0</td>\n",
       "      <td>82.0</td>\n",
       "      <td>82.0</td>\n",
       "      <td>85.0</td>\n",
       "      <td>87.0</td>\n",
       "    </tr>\n",
       "    <tr>\n",
       "      <th>3</th>\n",
       "      <td>177.0</td>\n",
       "      <td>2023-08-01 13:53:38</td>\n",
       "      <td>50.930914</td>\n",
       "      <td>5.327132</td>\n",
       "      <td>35.0</td>\n",
       "      <td>38.0</td>\n",
       "      <td>220.0</td>\n",
       "      <td>244.0</td>\n",
       "      <td>794.0</td>\n",
       "      <td>801.0</td>\n",
       "      <td>77.0</td>\n",
       "      <td>81.0</td>\n",
       "      <td>78.0</td>\n",
       "      <td>82.0</td>\n",
       "    </tr>\n",
       "    <tr>\n",
       "      <th>4</th>\n",
       "      <td>143.0</td>\n",
       "      <td>2023-08-24 07:02:30</td>\n",
       "      <td>51.180773</td>\n",
       "      <td>3.575259</td>\n",
       "      <td>41.0</td>\n",
       "      <td>34.0</td>\n",
       "      <td>227.0</td>\n",
       "      <td>282.0</td>\n",
       "      <td>806.0</td>\n",
       "      <td>800.0</td>\n",
       "      <td>85.0</td>\n",
       "      <td>78.0</td>\n",
       "      <td>82.0</td>\n",
       "      <td>79.0</td>\n",
       "    </tr>\n",
       "  </tbody>\n",
       "</table>\n",
       "</div>"
      ],
      "text/plain": [
       "  mapped_veh_id      timestamps_UTC        lat       lon  RS_E_InAirTemp_PC1  \\\n",
       "0         181.0 2023-08-01 03:44:12  50.769818  3.872114                27.0   \n",
       "1         143.0 2023-08-01 06:36:29  51.039993  3.693429                33.0   \n",
       "2         183.0 2023-08-24 06:53:54  50.742203  3.602035                31.0   \n",
       "3         177.0 2023-08-01 13:53:38  50.930914  5.327132                35.0   \n",
       "4         143.0 2023-08-24 07:02:30  51.180773  3.575259                41.0   \n",
       "\n",
       "   RS_E_InAirTemp_PC2  RS_E_OilPress_PC1  RS_E_OilPress_PC2  RS_E_RPM_PC1  \\\n",
       "0                23.0              255.0              238.0         794.0   \n",
       "1                32.0              272.0              324.0         802.0   \n",
       "2                33.0              234.0              182.0         799.0   \n",
       "3                38.0              220.0              244.0         794.0   \n",
       "4                34.0              227.0              282.0         806.0   \n",
       "\n",
       "   RS_E_RPM_PC2  RS_E_WatTemp_PC1  RS_E_WatTemp_PC2  RS_T_OilTemp_PC1  \\\n",
       "0         801.0              83.0              81.0              76.0   \n",
       "1         804.0              78.0              78.0              73.0   \n",
       "2         802.0              82.0              82.0              85.0   \n",
       "3         801.0              77.0              81.0              78.0   \n",
       "4         800.0              85.0              78.0              82.0   \n",
       "\n",
       "   RS_T_OilTemp_PC2  \n",
       "0              77.0  \n",
       "1              74.0  \n",
       "2              87.0  \n",
       "3              82.0  \n",
       "4              79.0  "
      ]
     },
     "execution_count": 2,
     "metadata": {},
     "output_type": "execute_result"
    }
   ],
   "source": [
    "data = pd.read_csv('../ar41_for_ulb.csv', sep=';', index_col=0)\n",
    "data['timestamps_UTC'] = pd.to_datetime(data.timestamps_UTC)\n",
    "data['mapped_veh_id'] = data.mapped_veh_id.apply(str)\n",
    "data.head()"
   ]
  },
  {
   "cell_type": "code",
   "execution_count": 3,
   "id": "77e1300c-88ef-4cb8-b053-ca6ffcd1bfe7",
   "metadata": {
    "tags": []
   },
   "outputs": [
    {
     "name": "stdout",
     "output_type": "stream",
     "text": [
      "<class 'pandas.core.frame.DataFrame'>\n",
      "Int64Index: 17679273 entries, 0 to 17679272\n",
      "Data columns (total 14 columns):\n",
      " #   Column              Dtype         \n",
      "---  ------              -----         \n",
      " 0   mapped_veh_id       object        \n",
      " 1   timestamps_UTC      datetime64[ns]\n",
      " 2   lat                 float64       \n",
      " 3   lon                 float64       \n",
      " 4   RS_E_InAirTemp_PC1  float64       \n",
      " 5   RS_E_InAirTemp_PC2  float64       \n",
      " 6   RS_E_OilPress_PC1   float64       \n",
      " 7   RS_E_OilPress_PC2   float64       \n",
      " 8   RS_E_RPM_PC1        float64       \n",
      " 9   RS_E_RPM_PC2        float64       \n",
      " 10  RS_E_WatTemp_PC1    float64       \n",
      " 11  RS_E_WatTemp_PC2    float64       \n",
      " 12  RS_T_OilTemp_PC1    float64       \n",
      " 13  RS_T_OilTemp_PC2    float64       \n",
      "dtypes: datetime64[ns](1), float64(12), object(1)\n",
      "memory usage: 2.0+ GB\n"
     ]
    }
   ],
   "source": [
    "data.info()"
   ]
  },
  {
   "cell_type": "markdown",
   "id": "a3e733c5",
   "metadata": {},
   "source": [
    "# Make a k means\n",
    "Select a minimum and maximum data. Then make a kmeans with the amount of clusters previously defined. Plot the points in the data set and overlap the cluster centers in red.\n",
    "\n",
    "You may notice that there are some outliers, that is to be expected since the data has not been cleaned."
   ]
  },
  {
   "cell_type": "code",
   "execution_count": 4,
   "id": "f362a458-8e3f-4f0e-a424-863be503103b",
   "metadata": {
    "tags": []
   },
   "outputs": [
    {
     "name": "stdout",
     "output_type": "stream",
     "text": [
      "2022-08-22 14:31:20 2023-09-13 21:52:58\n"
     ]
    }
   ],
   "source": [
    "mn, mx = np.min(data['timestamps_UTC']) , np.max(data['timestamps_UTC'])\n",
    "mn_datetime = datetime(mn.year, mn.month, mn.day)\n",
    "mx_datetime = datetime(mx.year, mx.month, mx.day)\n",
    "print(mn,mx)"
   ]
  },
  {
   "cell_type": "code",
   "execution_count": 5,
   "id": "cf48a2a5-1438-4b8b-bba9-bce39d25c8c5",
   "metadata": {
    "tags": []
   },
   "outputs": [],
   "source": [
    "x_k_means = data[['lat','lon']]\n",
    "kmeans = KMeans(n_clusters=number_of_clusters, random_state=0, n_init=\"auto\").fit(x_k_means)\n",
    "data['cluster_label'] = kmeans.labels_"
   ]
  },
  {
   "cell_type": "code",
   "execution_count": 6,
   "id": "1e5995e1-e92d-4a1e-8e4f-3b20ebc5594e",
   "metadata": {
    "tags": []
   },
   "outputs": [
    {
     "data": {
      "text/plain": [
       "Text(0.5, 1.0, 'Clusters for the weather')"
      ]
     },
     "execution_count": 6,
     "metadata": {},
     "output_type": "execute_result"
    },
    {
     "data": {
      "image/png": "[encoded data removed]",
      "text/plain": [
       "<Figure size 432x288 with 1 Axes>"
      ]
     },
     "metadata": {},
     "output_type": "display_data"
    }
   ],
   "source": [
    "ax = sns.scatterplot(data, x = 'lat', y = 'lon')\n",
    "for cc in kmeans.cluster_centers_:\n",
    "    ax.plot(cc[0], cc[1], '-ro',  markersize=10)\n",
    "ax.set_title(\"Clusters for the weather\")"
   ]
  },
  {
   "cell_type": "markdown",
   "id": "e530cb50",
   "metadata": {},
   "source": [
    "# Make the request to meteostat API\n",
    "\n",
    "There is a `time.sleep(5)` that ensures we don't get rate limits. Without it, the api call fails. There is also a very cool animation for loading."
   ]
  },
  {
   "cell_type": "code",
   "execution_count": 7,
   "id": "06203440-a197-4e5c-893d-17c828f70c28",
   "metadata": {
    "tags": []
   },
   "outputs": [
    {
     "name": "stdout",
     "output_type": "stream",
     "text": [
      "=========================\n",
      "========================="
     ]
    }
   ],
   "source": [
    "meteostat_points = [ Point (cc[0],cc[1], None ) for cc in kmeans.cluster_centers_]\n",
    "information_non_fetched = [Hourly(point, start=mn_datetime, end=mx_datetime) for point in meteostat_points]\n",
    "information = []\n",
    "print('='*len(information_non_fetched))\n",
    "for info in information_non_fetched:\n",
    "    information.append(info.fetch())\n",
    "    time.sleep(5)\n",
    "    print('=', end ='')"
   ]
  },
  {
   "cell_type": "markdown",
   "id": "66d10acf",
   "metadata": {},
   "source": [
    "# Join the tables\n",
    "The join is on the key `timestamps_UTC` using an approximation to the nearest hour. Thus I first construct a naive index and then join them"
   ]
  },
  {
   "cell_type": "code",
   "execution_count": 8,
   "id": "ee11352a-d3a1-4411-93d8-545c63656e04",
   "metadata": {
    "tags": []
   },
   "outputs": [
    {
     "data": {
      "application/vnd.jupyter.widget-view+json": {
       "model_id": "b64a13b1da324a7285aede615e91943f",
       "version_major": 2,
       "version_minor": 0
      },
      "text/plain": [
       "Dask Apply:   0%|          | 0/32 [00:00<?, ?it/s]"
      ]
     },
     "metadata": {},
     "output_type": "display_data"
    }
   ],
   "source": [
    "small_index = information[0].index\n",
    "aux_col = data['timestamps_UTC'].swifter.apply(lambda x: small_index.get_indexer([x], method='pad')[0])"
   ]
  },
  {
   "cell_type": "code",
   "execution_count": 9,
   "id": "397ca6c9-8ef9-41eb-ab2b-3caef3845c88",
   "metadata": {
    "tags": []
   },
   "outputs": [],
   "source": [
    "all_information = pd.concat([i.reset_index() for i in information]).reset_index( drop=True)\n",
    "location_in_information = np.array(aux_col)\n",
    "all_locations = (kmeans.labels_ * len(information[0]))+location_in_information\n",
    "data_to_concat = all_information.iloc[all_locations].reset_index( drop=True)"
   ]
  },
  {
   "cell_type": "markdown",
   "id": "925bef1c",
   "metadata": {},
   "source": [
    "### Delete the data because it is no longer necessary to have it in memory"
   ]
  },
  {
   "cell_type": "code",
   "execution_count": 11,
   "id": "30da9be5-f393-43db-a999-6872f94313b3",
   "metadata": {
    "tags": []
   },
   "outputs": [],
   "source": [
    "data = pd.concat([data, data_to_concat.drop(['time'], axis = 1)], axis = 1)\n",
    "del data_to_concat"
   ]
  },
  {
   "cell_type": "code",
   "execution_count": 12,
   "id": "60acd334-383a-4ead-ae2d-03d5f829ae8b",
   "metadata": {
    "tags": []
   },
   "outputs": [
    {
     "data": {
      "text/html": [
       "<div>\n",
       "<style scoped>\n",
       "    .dataframe tbody tr th:only-of-type {\n",
       "        vertical-align: middle;\n",
       "    }\n",
       "\n",
       "    .dataframe tbody tr th {\n",
       "        vertical-align: top;\n",
       "    }\n",
       "\n",
       "    .dataframe thead th {\n",
       "        text-align: right;\n",
       "    }\n",
       "</style>\n",
       "<table border=\"1\" class=\"dataframe\">\n",
       "  <thead>\n",
       "    <tr style=\"text-align: right;\">\n",
       "      <th></th>\n",
       "      <th>mapped_veh_id</th>\n",
       "      <th>timestamps_UTC</th>\n",
       "      <th>lat</th>\n",
       "      <th>lon</th>\n",
       "      <th>RS_E_InAirTemp_PC1</th>\n",
       "      <th>RS_E_InAirTemp_PC2</th>\n",
       "      <th>RS_E_OilPress_PC1</th>\n",
       "      <th>RS_E_OilPress_PC2</th>\n",
       "      <th>RS_E_RPM_PC1</th>\n",
       "      <th>RS_E_RPM_PC2</th>\n",
       "      <th>...</th>\n",
       "      <th>dwpt</th>\n",
       "      <th>rhum</th>\n",
       "      <th>prcp</th>\n",
       "      <th>snow</th>\n",
       "      <th>wdir</th>\n",
       "      <th>wspd</th>\n",
       "      <th>wpgt</th>\n",
       "      <th>pres</th>\n",
       "      <th>tsun</th>\n",
       "      <th>coco</th>\n",
       "    </tr>\n",
       "  </thead>\n",
       "  <tbody>\n",
       "    <tr>\n",
       "      <th>0</th>\n",
       "      <td>181.0</td>\n",
       "      <td>2023-08-01 03:44:12</td>\n",
       "      <td>50.769818</td>\n",
       "      <td>3.872114</td>\n",
       "      <td>27.0</td>\n",
       "      <td>23.0</td>\n",
       "      <td>255.0</td>\n",
       "      <td>238.0</td>\n",
       "      <td>794.0</td>\n",
       "      <td>801.0</td>\n",
       "      <td>...</td>\n",
       "      <td>14.2</td>\n",
       "      <td>93.0</td>\n",
       "      <td>0.0</td>\n",
       "      <td>NaN</td>\n",
       "      <td>250.0</td>\n",
       "      <td>10.8</td>\n",
       "      <td>NaN</td>\n",
       "      <td>1000.7</td>\n",
       "      <td>NaN</td>\n",
       "      <td>2.0</td>\n",
       "    </tr>\n",
       "    <tr>\n",
       "      <th>1</th>\n",
       "      <td>143.0</td>\n",
       "      <td>2023-08-01 06:36:29</td>\n",
       "      <td>51.039993</td>\n",
       "      <td>3.693429</td>\n",
       "      <td>33.0</td>\n",
       "      <td>32.0</td>\n",
       "      <td>272.0</td>\n",
       "      <td>324.0</td>\n",
       "      <td>802.0</td>\n",
       "      <td>804.0</td>\n",
       "      <td>...</td>\n",
       "      <td>13.5</td>\n",
       "      <td>89.0</td>\n",
       "      <td>0.0</td>\n",
       "      <td>NaN</td>\n",
       "      <td>254.0</td>\n",
       "      <td>20.5</td>\n",
       "      <td>27.8</td>\n",
       "      <td>1001.0</td>\n",
       "      <td>NaN</td>\n",
       "      <td>2.0</td>\n",
       "    </tr>\n",
       "    <tr>\n",
       "      <th>2</th>\n",
       "      <td>183.0</td>\n",
       "      <td>2023-08-24 06:53:54</td>\n",
       "      <td>50.742203</td>\n",
       "      <td>3.602035</td>\n",
       "      <td>31.0</td>\n",
       "      <td>33.0</td>\n",
       "      <td>234.0</td>\n",
       "      <td>182.0</td>\n",
       "      <td>799.0</td>\n",
       "      <td>802.0</td>\n",
       "      <td>...</td>\n",
       "      <td>15.7</td>\n",
       "      <td>87.0</td>\n",
       "      <td>0.0</td>\n",
       "      <td>NaN</td>\n",
       "      <td>94.0</td>\n",
       "      <td>11.9</td>\n",
       "      <td>NaN</td>\n",
       "      <td>1013.9</td>\n",
       "      <td>NaN</td>\n",
       "      <td>2.0</td>\n",
       "    </tr>\n",
       "    <tr>\n",
       "      <th>3</th>\n",
       "      <td>177.0</td>\n",
       "      <td>2023-08-01 13:53:38</td>\n",
       "      <td>50.930914</td>\n",
       "      <td>5.327132</td>\n",
       "      <td>35.0</td>\n",
       "      <td>38.0</td>\n",
       "      <td>220.0</td>\n",
       "      <td>244.0</td>\n",
       "      <td>794.0</td>\n",
       "      <td>801.0</td>\n",
       "      <td>...</td>\n",
       "      <td>13.1</td>\n",
       "      <td>65.0</td>\n",
       "      <td>0.0</td>\n",
       "      <td>NaN</td>\n",
       "      <td>276.0</td>\n",
       "      <td>15.5</td>\n",
       "      <td>NaN</td>\n",
       "      <td>1002.8</td>\n",
       "      <td>NaN</td>\n",
       "      <td>3.0</td>\n",
       "    </tr>\n",
       "    <tr>\n",
       "      <th>4</th>\n",
       "      <td>143.0</td>\n",
       "      <td>2023-08-24 07:02:30</td>\n",
       "      <td>51.180773</td>\n",
       "      <td>3.575259</td>\n",
       "      <td>41.0</td>\n",
       "      <td>34.0</td>\n",
       "      <td>227.0</td>\n",
       "      <td>282.0</td>\n",
       "      <td>806.0</td>\n",
       "      <td>800.0</td>\n",
       "      <td>...</td>\n",
       "      <td>17.9</td>\n",
       "      <td>86.0</td>\n",
       "      <td>0.0</td>\n",
       "      <td>NaN</td>\n",
       "      <td>109.0</td>\n",
       "      <td>7.4</td>\n",
       "      <td>14.8</td>\n",
       "      <td>1014.9</td>\n",
       "      <td>NaN</td>\n",
       "      <td>3.0</td>\n",
       "    </tr>\n",
       "  </tbody>\n",
       "</table>\n",
       "<p>5 rows × 26 columns</p>\n",
       "</div>"
      ],
      "text/plain": [
       "  mapped_veh_id      timestamps_UTC        lat       lon  RS_E_InAirTemp_PC1  \\\n",
       "0         181.0 2023-08-01 03:44:12  50.769818  3.872114                27.0   \n",
       "1         143.0 2023-08-01 06:36:29  51.039993  3.693429                33.0   \n",
       "2         183.0 2023-08-24 06:53:54  50.742203  3.602035                31.0   \n",
       "3         177.0 2023-08-01 13:53:38  50.930914  5.327132                35.0   \n",
       "4         143.0 2023-08-24 07:02:30  51.180773  3.575259                41.0   \n",
       "\n",
       "   RS_E_InAirTemp_PC2  RS_E_OilPress_PC1  RS_E_OilPress_PC2  RS_E_RPM_PC1  \\\n",
       "0                23.0              255.0              238.0         794.0   \n",
       "1                32.0              272.0              324.0         802.0   \n",
       "2                33.0              234.0              182.0         799.0   \n",
       "3                38.0              220.0              244.0         794.0   \n",
       "4                34.0              227.0              282.0         806.0   \n",
       "\n",
       "   RS_E_RPM_PC2  ...  dwpt  rhum  prcp  snow   wdir  wspd  wpgt    pres  tsun  \\\n",
       "0         801.0  ...  14.2  93.0   0.0   NaN  250.0  10.8   NaN  1000.7   NaN   \n",
       "1         804.0  ...  13.5  89.0   0.0   NaN  254.0  20.5  27.8  1001.0   NaN   \n",
       "2         802.0  ...  15.7  87.0   0.0   NaN   94.0  11.9   NaN  1013.9   NaN   \n",
       "3         801.0  ...  13.1  65.0   0.0   NaN  276.0  15.5   NaN  1002.8   NaN   \n",
       "4         800.0  ...  17.9  86.0   0.0   NaN  109.0   7.4  14.8  1014.9   NaN   \n",
       "\n",
       "   coco  \n",
       "0   2.0  \n",
       "1   2.0  \n",
       "2   2.0  \n",
       "3   3.0  \n",
       "4   3.0  \n",
       "\n",
       "[5 rows x 26 columns]"
      ]
     },
     "execution_count": 12,
     "metadata": {},
     "output_type": "execute_result"
    }
   ],
   "source": [
    "data.head()"
   ]
  },
  {
   "cell_type": "markdown",
   "id": "29c3bf2e",
   "metadata": {},
   "source": [
    "# Save the data"
   ]
  },
  {
   "cell_type": "code",
   "execution_count": 13,
   "id": "b9e43675-e03b-4214-b869-4b9bc5560db4",
   "metadata": {
    "tags": []
   },
   "outputs": [],
   "source": [
    "data.to_csv('data_augmented_big.csv',index= False)"
   ]
  }
 ],
 "metadata": {
  "kernelspec": {
   "display_name": "Python 3",
   "language": "python",
   "name": "python3"
  },
  "language_info": {
   "codemirror_mode": {
    "name": "ipython",
    "version": 3
   },
   "file_extension": ".py",
   "mimetype": "text/x-python",
   "name": "python",
   "nbconvert_exporter": "python",
   "pygments_lexer": "ipython3",
   "version": "3.9.18"
  }
 },
 "nbformat": 4,
 "nbformat_minor": 5
}
